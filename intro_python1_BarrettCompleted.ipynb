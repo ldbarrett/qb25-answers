{
 "cells": [
  {
   "cell_type": "markdown",
   "id": "ed7dbb46",
   "metadata": {},
   "source": [
    "Given the following DNA coding sequence for actin (CDS, so no introns), let's use your new Python skills to answer some basic biology questions"
   ]
  },
  {
   "cell_type": "code",
   "execution_count": null,
   "id": "e192374d",
   "metadata": {},
   "outputs": [],
   "source": [
    "actin = \"CAAAAATGTGTGACGACGAGGTTGCCGCTCTTGTTGTAGACAATGGATCCGGAATGTGCAAGGCCGGATTCGCCGGAGACGACGCTCCACGCGCCGTGTTCCCATCCATTGTCGGAAGACCACGTCATCAAGGAGTCATGGTCGGTATGGGACAAAAGGACTCGTACGTCGGAGATGAGGCCCAGTCCAAGAGAGGTATCCTTACCCTCAAGTACCCAATCGAGCACGGAATCGTCACAAATTGGGACGATATGGAGAAGATCTGGCACCACACCTTCTACAATGAGCTCCGTGTTGCCCCAGAAGAGCACCCAGTCCTCCTCACTGAGGCCCCACTCAATCCAAAGGCCAACAGAGAAAAGATGACTCAAATCATGTTCGAGACCTTCAACACCCCAGCCATGTACGTCGCGATTCAAGCCGTTCTCTCCCTCTACGCTTCCGGACGTACCACCGGAGTCGTCCTCGACTCTGGAGATGGTGTCACCCACACCGTCCCAATCTACGAAGGATATGCTCTCCCACACGCCATCCTTCGTCTCGACTTGGCCGGACGTGATCTTACTGATTACCTCATGAAGATCCTCACTGAGCGCGGTTACTCTTTCACCACCACCGCTGAGCGTGAGATCGTTCGTGACATCAAGGAGAAGCTCTGCTACGTCGCTCTCGACTTCGAGCAGGAAATGGCCACCGCTGCTTCCTCATCTTCACTCGAGAAGTCCTATGAGCTTCCTGACGGACAGGTTATCACCGTCGGAAATGAACGTTTCCGTTGCCCAGAGGCTCTCTTCCAGCCATCCTTCTTGGGTATGGAGTCCGCCGGAATCCACGAGACCTCGTACAACTCCATCATGAAGTGCGACATTGACATCCGTAAGGACTTGTACGCCAACACCGTTCTCTCCGGAGGAACCACCATGTACCCAGGAATTGCTGATCGCATGCAAAAGGAGATCACCGCTCTTGCCCCATCCACCATGAAGATCAAGATCATCGCTCCACCAGAGCGCAAATACTCCGTCTGGATCGGAGGATCCATCCTCGCTTCCCTCTCCACCTTCCAACAGATGTGGATCTCCAAGCAAGAGTACGACGAGTCCGGCCCATCGATCGTCCACCGCAAGTGCTTCTAAGCGCCTCGTCCCCACCATTTTTCTCTATTATTTTTTCCTTTTTTACCATCTTTTTTCCCTTTTTTGTCACCAAATCGTTATGGTCCCTTTTGGGACAATAACAACTTCCGTATCATCATTTTAAGATCATGAGACCATCCAAAAAAAGAC\""
   ]
  },
  {
   "cell_type": "markdown",
   "id": "82e1c0b9",
   "metadata": {},
   "source": [
    "How long is the total sequence?\n",
    "\n",
    "Can you figure out what the GC content is?"
   ]
  },
  {
   "cell_type": "code",
   "execution_count": 22,
   "id": "8ad4f280",
   "metadata": {},
   "outputs": [
    {
     "name": "stdout",
     "output_type": "stream",
     "text": [
      "G: 275\n",
      "C: 396\n",
      "GC sum: 671\n",
      "GC Content(%): 52.17729393468118\n",
      "1286\n"
     ]
    }
   ],
   "source": [
    "len(actin)\n",
    "\n",
    "g_count = actin.count('G')\n",
    "c_count = actin.count('C')\n",
    "print(\"G:\",str(g_count))\n",
    "print(\"C:\",str(c_count))\n",
    "print(\"GC sum:\",str(g_count+c_count))\n",
    "print(\"GC Content(%):\",str(100*(g_count+c_count)/len(actin)))\n",
    "print(len(actin))"
   ]
  },
  {
   "cell_type": "markdown",
   "id": "bf2cdaf7",
   "metadata": {},
   "source": [
    "Where is the beginning of the coding sequence? (The start codon should be ATG, since this is DNA)"
   ]
  },
  {
   "cell_type": "code",
   "execution_count": 13,
   "id": "81d1ccb6",
   "metadata": {},
   "outputs": [
    {
     "name": "stdout",
     "output_type": "stream",
     "text": [
      "5\n"
     ]
    }
   ],
   "source": [
    "start = actin.find('ATG')\n",
    "print(start)"
   ]
  },
  {
   "cell_type": "markdown",
   "id": "816214c8",
   "metadata": {},
   "source": [
    "Given that the stop codon is either TAA, TAG, or TGA, can you figure out how many amino acids are encoded by this sequence?\n",
    "\n",
    "How many tryptophans are there in the resulting protein (its codon if TGG)?\n",
    "\n",
    "Can you make a list of all of the codons in order?"
   ]
  },
  {
   "cell_type": "code",
   "execution_count": 27,
   "id": "328b015b",
   "metadata": {},
   "outputs": [
    {
     "name": "stdout",
     "output_type": "stream",
     "text": [
      "376.0\n",
      "Tryptophan Count: 4\n",
      "['ATG', 'TGT', 'GAC', 'GAC', 'GAG', 'GTT', 'GCC', 'GCT', 'CTT', 'GTT', 'GTA', 'GAC', 'AAT', 'GGA', 'TCC', 'GGA', 'ATG', 'TGC', 'AAG', 'GCC', 'GGA', 'TTC', 'GCC', 'GGA', 'GAC', 'GAC', 'GCT', 'CCA', 'CGC', 'GCC', 'GTG', 'TTC', 'CCA', 'TCC', 'ATT', 'GTC', 'GGA', 'AGA', 'CCA', 'CGT', 'CAT', 'CAA', 'GGA', 'GTC', 'ATG', 'GTC', 'GGT', 'ATG', 'GGA', 'CAA', 'AAG', 'GAC', 'TCG', 'TAC', 'GTC', 'GGA', 'GAT', 'GAG', 'GCC', 'CAG', 'TCC', 'AAG', 'AGA', 'GGT', 'ATC', 'CTT', 'ACC', 'CTC', 'AAG', 'TAC', 'CCA', 'ATC', 'GAG', 'CAC', 'GGA', 'ATC', 'GTC', 'ACA', 'AAT', 'TGG', 'GAC', 'GAT', 'ATG', 'GAG', 'AAG', 'ATC', 'TGG', 'CAC', 'CAC', 'ACC', 'TTC', 'TAC', 'AAT', 'GAG', 'CTC', 'CGT', 'GTT', 'GCC', 'CCA', 'GAA', 'GAG', 'CAC', 'CCA', 'GTC', 'CTC', 'CTC', 'ACT', 'GAG', 'GCC', 'CCA', 'CTC', 'AAT', 'CCA', 'AAG', 'GCC', 'AAC', 'AGA', 'GAA', 'AAG', 'ATG', 'ACT', 'CAA', 'ATC', 'ATG', 'TTC', 'GAG', 'ACC', 'TTC', 'AAC', 'ACC', 'CCA', 'GCC', 'ATG', 'TAC', 'GTC', 'GCG', 'ATT', 'CAA', 'GCC', 'GTT', 'CTC', 'TCC', 'CTC', 'TAC', 'GCT', 'TCC', 'GGA', 'CGT', 'ACC', 'ACC', 'GGA', 'GTC', 'GTC', 'CTC', 'GAC', 'TCT', 'GGA', 'GAT', 'GGT', 'GTC', 'ACC', 'CAC', 'ACC', 'GTC', 'CCA', 'ATC', 'TAC', 'GAA', 'GGA', 'TAT', 'GCT', 'CTC', 'CCA', 'CAC', 'GCC', 'ATC', 'CTT', 'CGT', 'CTC', 'GAC', 'TTG', 'GCC', 'GGA', 'CGT', 'GAT', 'CTT', 'ACT', 'GAT', 'TAC', 'CTC', 'ATG', 'AAG', 'ATC', 'CTC', 'ACT', 'GAG', 'CGC', 'GGT', 'TAC', 'TCT', 'TTC', 'ACC', 'ACC', 'ACC', 'GCT', 'GAG', 'CGT', 'GAG', 'ATC', 'GTT', 'CGT', 'GAC', 'ATC', 'AAG', 'GAG', 'AAG', 'CTC', 'TGC', 'TAC', 'GTC', 'GCT', 'CTC', 'GAC', 'TTC', 'GAG', 'CAG', 'GAA', 'ATG', 'GCC', 'ACC', 'GCT', 'GCT', 'TCC', 'TCA', 'TCT', 'TCA', 'CTC', 'GAG', 'AAG', 'TCC', 'TAT', 'GAG', 'CTT', 'CCT', 'GAC', 'GGA', 'CAG', 'GTT', 'ATC', 'ACC', 'GTC', 'GGA', 'AAT', 'GAA', 'CGT', 'TTC', 'CGT', 'TGC', 'CCA', 'GAG', 'GCT', 'CTC', 'TTC', 'CAG', 'CCA', 'TCC', 'TTC', 'TTG', 'GGT', 'ATG', 'GAG', 'TCC', 'GCC', 'GGA', 'ATC', 'CAC', 'GAG', 'ACC', 'TCG', 'TAC', 'AAC', 'TCC', 'ATC', 'ATG', 'AAG', 'TGC', 'GAC', 'ATT', 'GAC', 'ATC', 'CGT', 'AAG', 'GAC', 'TTG', 'TAC', 'GCC', 'AAC', 'ACC', 'GTT', 'CTC', 'TCC', 'GGA', 'GGA', 'ACC', 'ACC', 'ATG', 'TAC', 'CCA', 'GGA', 'ATT', 'GCT', 'GAT', 'CGC', 'ATG', 'CAA', 'AAG', 'GAG', 'ATC', 'ACC', 'GCT', 'CTT', 'GCC', 'CCA', 'TCC', 'ACC', 'ATG', 'AAG', 'ATC', 'AAG', 'ATC', 'ATC', 'GCT', 'CCA', 'CCA', 'GAG', 'CGC', 'AAA', 'TAC', 'TCC', 'GTC', 'TGG', 'ATC', 'GGA', 'GGA', 'TCC', 'ATC', 'CTC', 'GCT', 'TCC', 'CTC', 'TCC', 'ACC', 'TTC', 'CAA', 'CAG', 'ATG', 'TGG', 'ATC', 'TCC', 'AAG', 'CAA', 'GAG', 'TAC', 'GAC', 'GAG', 'TCC', 'GGC', 'CCA', 'TCG', 'ATC', 'GTC', 'CAC', 'CGC', 'AAG', 'TGC', 'TTC']\n"
     ]
    }
   ],
   "source": [
    "stop1 = \"TAA\"\n",
    "stop2 = \"TAG\"\n",
    "stop3 = \"TGA\"\n",
    "trypCount = 0\n",
    "codonList = []\n",
    "\n",
    "for i in range(5,len(actin),3):\n",
    "    codon = actin[i:i+3]\n",
    "    if codon == \"TGG\":\n",
    "        trypCount += 1\n",
    "    if codon in [stop1,stop2,stop3]:\n",
    "        break\n",
    "    codonList.append(codon)\n",
    "\n",
    "\n",
    "print(((i - actin.find(\"ATG\")) / 3))\n",
    "print(\"Tryptophan Count:\",str(trypCount))\n",
    "print((codonList))"
   ]
  },
  {
   "cell_type": "code",
   "execution_count": null,
   "id": "317e7cbc",
   "metadata": {},
   "outputs": [],
   "source": []
  }
 ],
 "metadata": {
  "kernelspec": {
   "display_name": "qb25",
   "language": "python",
   "name": "python3"
  },
  "language_info": {
   "codemirror_mode": {
    "name": "ipython",
    "version": 3
   },
   "file_extension": ".py",
   "mimetype": "text/x-python",
   "name": "python",
   "nbconvert_exporter": "python",
   "pygments_lexer": "ipython3",
   "version": "3.12.3"
  }
 },
 "nbformat": 4,
 "nbformat_minor": 5
}
